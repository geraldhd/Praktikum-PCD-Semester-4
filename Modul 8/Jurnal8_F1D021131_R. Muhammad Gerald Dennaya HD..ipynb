{
 "cells": [
  {
   "attachments": {},
   "cell_type": "markdown",
   "metadata": {},
   "source": [
    "### Modul 8: Ekstraksi Fitur (Gray Level Co-occurence Matrix (GLCM))"
   ]
  },
  {
   "attachments": {},
   "cell_type": "markdown",
   "metadata": {},
   "source": [
    "#### Lakukan normalisasi terhadap dataset tersebut kemudian resize dataset ke ukuran 256 pixel.\n",
    "#### Ekstraksilah dataset yang diberikan menggunakan sudut 0, 45, 90 dan 135. Dimana masing-masing sudut tersebut akan menghasilkan matrix baru.\n",
    "#### Matrix tersebut akan diekstraksi dan menghasilkan fitur berikut:\n",
    "#### a. Kontras\n",
    "#### b. Dissimiliarity\n",
    "#### c. Homogenitas\n",
    "#### d. Entropi\n",
    "#### e. ASM\n",
    "#### f. Energy\n",
    "#### g. Correlation\n",
    "#### Buatlah korelasi fitur menggunakan Person Correlation.\n",
    "#### Tampilkanlah 5 korelasi tertinggi dari hasil korelasi fitur kalian.\n",
    "#### Analisislah perbedaan hasil ekstraksi fitur yang sudah dilakukan."
   ]
  },
  {
   "cell_type": "code",
   "execution_count": 1,
   "metadata": {},
   "outputs": [],
   "source": [
    "import cv2\n",
    "import numpy as np\n",
    "import os\n",
    "import pandas as pd\n",
    "from tqdm import tqdm\n",
    "import math"
   ]
  },
  {
   "attachments": {},
   "cell_type": "markdown",
   "metadata": {},
   "source": [
    "cv2 untuk pemrosesan gambar, numpy digunakan untuk manipulasi data numerik, os untuk operasi pada sistem operasi, pandas untuk manipulasi dan analisis data tabular, tqdm untuk melacak kemajuan dalam loop, dan math untuk fungsi matematika umum"
   ]
  },
  {
   "cell_type": "code",
   "execution_count": 2,
   "metadata": {},
   "outputs": [],
   "source": [
    "def normalisasi(folder):\n",
    "    image = []\n",
    "    \n",
    "    for label in os.listdir(folder):\n",
    "        label_path = os.path.join(folder, label)\n",
    "        \n",
    "        if os.path.isdir(label_path):            \n",
    "            for filename in os.listdir(label_path):\n",
    "                file_path = os.path.join(label_path, filename)\n",
    "                img = cv2.imread(file_path)\n",
    "                \n",
    "                if img is not None:\n",
    "                    normalized_image = cv2.normalize(img, None, 0, 255, cv2.NORM_MINMAX, cv2.CV_8U)\n",
    "                    height, width = normalized_image.shape[:2]\n",
    "                    if height > width:\n",
    "                        scale_factor = 256 / height\n",
    "                    else:\n",
    "                        scale_factor = 256 / width\n",
    "\n",
    "                    resized_image = cv2.resize(normalized_image, (0, 0), fx=scale_factor, fy=scale_factor)\n",
    "                    image.append(resized_image)\n",
    "                    \n",
    "                else:\n",
    "                    print(f\"Tidak ada gambar: {file_path}\")\n",
    "                    \n",
    "    return image"
   ]
  },
  {
   "attachments": {},
   "cell_type": "markdown",
   "metadata": {},
   "source": [
    "Membuat variabel image yang akan menyimpan daftar gambar yang telah dinormalisasi. Loop melalui setiap label (direktori) di dalam folder yang diberikan. Membuat path lengkap ke label tersebut menggunakan os.path.join.\n",
    "Memeriksa apakah path label merupakan sebuah direktori dengan menggunakan os.path.isdir. Jika path label merupakan sebuah direktori, maka dilakukan loop melalui setiap file di dalam label tersebut. Membuat path lengkap ke file menggunakan os.path.join. Membaca gambar menggunakan cv2.imread. Memeriksa apakah gambar berhasil dibaca dengan memeriksa apakah img bukan None.Jika gambar berhasil dibaca, maka dilakukan normalisasi gambar menggunakan cv2.normalize. Parameter cv2.NORM_MINMAX digunakan untuk melakukan normalisasi menggunakan metode min-max normalization, sehingga piksel-piksel gambar dinormalisasi ke dalam rentang 0-255. Mengambil dimensi tinggi dan lebar gambar yang telah dinormalisasi menggunakan normalized_image.shape[:2]. Memeriksa apakah tinggi gambar lebih besar dari lebar. Jika ya, maka skala faktor ditentukan dengan membagi 256 oleh tinggi gambar. Jika tidak, skala faktor ditentukan dengan membagi 256 oleh lebar gambar.\n",
    "Melakukan resize pada gambar menggunakan cv2.resize, dengan menggunakan skala faktor yang telah ditentukan sebelumnya.\n",
    "Menambahkan gambar yang telah dinormalisasi dan diresize ke dalam daftar image. Jika gambar tidak berhasil dibaca (bernilai None), maka cetak pesan error yang menunjukkan path file yang tidak dapat dibaca.Mengembalikan daftar image yang berisi gambar-gambar yang telah dinormalisasi."
   ]
  },
  {
   "cell_type": "code",
   "execution_count": 3,
   "metadata": {},
   "outputs": [],
   "source": [
    "def derajat0(img):\n",
    "    max = np.max(img)\n",
    "    temp = np.zeros([max + 1, max + 1])\n",
    "    \n",
    "    for i in range(len(img)):\n",
    "        for j in range(len(img[i]) - 1):\n",
    "            temp[img[i, j], img[i, j + 1]] += 1\n",
    "    \n",
    "    data = temp + temp.T\n",
    "    data /= np.sum(data)\n",
    "    \n",
    "    return data\n"
   ]
  },
  {
   "attachments": {},
   "cell_type": "markdown",
   "metadata": {},
   "source": [
    "Mencari nilai maksimum dalam gambar menggunakan np.max(img). Nilai ini akan digunakan untuk membuat matriks kosong dengan ukuran (max + 1) x (max + 1).Membuat matriks kosong temp dengan ukuran yang sesuai menggunakan np.zeros.\n",
    "Melakukan loop pada setiap baris (i) dan kolom (j) dalam gambar. Pada setiap iterasi, menambahkan jumlah kemunculan pasangan piksel sebelah kanan menggunakan temp[img[i, j], img[i, j + 1]] += 1. Ini dilakukan untuk menghitung distribusi probabilitas dari piksel-piksel yang muncul berdampingan. Menggabungkan matriks temp dengan tranposenya menggunakan temp + temp.T. Ini dilakukan untuk memperoleh matriks simetri yang mencerminkan ketergantungan piksel secara bilateral.\n",
    "Membagi matriks data dengan jumlah semua elemennya menggunakan data /= np.sum(data). Ini dilakukan untuk menghitung probabilitas dari setiap pasangan piksel. Mengembalikan matriks distribusi probabilitas data."
   ]
  },
  {
   "cell_type": "code",
   "execution_count": 4,
   "metadata": {},
   "outputs": [],
   "source": [
    "folder = \"fast-food\"\n",
    "images = normalisasi(folder)"
   ]
  },
  {
   "attachments": {},
   "cell_type": "markdown",
   "metadata": {},
   "source": [
    "folder = \"fast-food\" variabel ini akan digunakan sebagai path folder yang berisi gambar-gambar yang ingin dinormalisasi.\n",
    "images = normalisasi(folder) fungsi normalisasi akan membaca gambar-gambar dari folder yang diberikan, melakukan normalisasi pada setiap gambar, dan mengembalikan daftar gambar yang telah dinormalisasi. Daftar gambar yang telah dinormalisasi kemudian disimpan dalam variabel images."
   ]
  },
  {
   "cell_type": "code",
   "execution_count": 5,
   "metadata": {},
   "outputs": [],
   "source": [
    "def derajat45(img):\n",
    "    max = np.max(img)\n",
    "    temp = np.zeros([max + 1, max + 1])\n",
    "    \n",
    "    for i in range(len(img) - 1):\n",
    "        for j in range(len(img[i]) - 1):\n",
    "            temp[img[i + 1, j], img[i, j + 1]] += 1\n",
    "    \n",
    "    data = temp + temp.T\n",
    "    data /= np.sum(data)\n",
    "    \n",
    "    return data\n"
   ]
  },
  {
   "attachments": {},
   "cell_type": "markdown",
   "metadata": {},
   "source": [
    "Mencari nilai maksimum dalam gambar menggunakan np.max(img). Nilai ini akan digunakan untuk membuat matriks kosong dengan ukuran (max + 1) x (max + 1). Membuat matriks kosong temp dengan ukuran yang sesuai menggunakan np.zeros.\n",
    "Melakukan loop pada setiap baris (i) dan kolom (j) dalam gambar, kecuali baris terakhir dan kolom terakhir.\n",
    "Pada setiap iterasi, menambahkan jumlah kemunculan pasangan piksel pada posisi yang ditentukan oleh (img[i + 1, j], img[i, j + 1]) menggunakan temp[img[i + 1, j], img[i, j + 1]] += 1. Ini dilakukan untuk menghitung distribusi probabilitas dari piksel-piksel yang muncul pada sudut 45 derajat. Menggabungkan matriks temp dengan tranposenya menggunakan temp + temp.T. Ini dilakukan untuk memperoleh matriks simetri yang mencerminkan ketergantungan piksel secara bilateral.\n",
    "Membagi matriks data dengan jumlah semua elemennya menggunakan data /= np.sum(data). Ini dilakukan untuk menghitung probabilitas dari setiap pasangan piksel. Mengembalikan matriks distribusi probabilitas data."
   ]
  },
  {
   "cell_type": "code",
   "execution_count": 6,
   "metadata": {},
   "outputs": [],
   "source": [
    "def derajat90(img):\n",
    "    max = np.max(img)\n",
    "    temp = np.zeros([max + 1, max + 1])\n",
    "    \n",
    "    for i in range(len(img) - 1):\n",
    "        for j in range(len(img[i]) - 1):\n",
    "            temp[img[i + 1, j], img[i, j]] += 1\n",
    "    \n",
    "    data = temp + temp.T\n",
    "    data /= np.sum(data)\n",
    "    \n",
    "    return data\n"
   ]
  },
  {
   "attachments": {},
   "cell_type": "markdown",
   "metadata": {},
   "source": [
    "Mencari nilai maksimum dalam gambar menggunakan np.max(img). Nilai ini akan digunakan untuk membuat matriks kosong dengan ukuran (max + 1) x (max + 1). Membuat matriks kosong temp dengan ukuran yang sesuai menggunakan np.zeros. Melakukan loop pada setiap baris (i) dan kolom (j) dalam gambar, kecuali baris terakhir dan kolom terakhir. Pada setiap iterasi, menambahkan jumlah kemunculan pasangan piksel pada posisi yang ditentukan oleh (img[i + 1, j], img[i, j]) menggunakan temp[img[i + 1, j], img[i, j]] += 1. Ini dilakukan untuk menghitung distribusi probabilitas dari piksel-piksel yang muncul pada sudut 90 derajat. Menggabungkan matriks temp dengan tranposenya menggunakan temp + temp.T. Ini dilakukan untuk memperoleh matriks simetri yang mencerminkan ketergantungan piksel secara bilateral. Membagi matriks data dengan jumlah semua elemennya menggunakan data /= np.sum(data). Ini dilakukan untuk menghitung probabilitas dari setiap pasangan piksel.Mengembalikan matriks distribusi probabilitas data."
   ]
  },
  {
   "cell_type": "code",
   "execution_count": 7,
   "metadata": {},
   "outputs": [],
   "source": [
    "def derajat135(img):\n",
    "    max = np.max(img)\n",
    "    temp = np.zeros([max + 1, max + 1])\n",
    "    \n",
    "    for i in range(len(img) - 1):\n",
    "        for j in range(len(img[i]) - 1):\n",
    "            temp[img[i, j], img[i + 1, j + 1]] += 1\n",
    "    \n",
    "    data = temp + temp.T\n",
    "    data /= np.sum(data)\n",
    "    \n",
    "    return data\n"
   ]
  },
  {
   "attachments": {},
   "cell_type": "markdown",
   "metadata": {},
   "source": [
    "Mencari nilai maksimum dalam gambar menggunakan np.max(img). Nilai ini akan digunakan untuk membuat matriks kosong dengan ukuran (max + 1) x (max + 1). Membuat matriks kosong temp dengan ukuran yang sesuai menggunakan np.zeros.\n",
    "Melakukan loop pada setiap baris (i) dan kolom (j) dalam gambar, kecuali baris terakhir dan kolom terakhir.\n",
    "Pada setiap iterasi, menambahkan jumlah kemunculan pasangan piksel pada posisi yang ditentukan oleh (img[i, j], img[i + 1, j + 1]) menggunakan temp[img[i, j], img[i + 1, j + 1]] += 1. Ini dilakukan untuk menghitung distribusi probabilitas dari piksel-piksel yang muncul pada sudut 135 derajat. Menggabungkan matriks temp dengan tranposenya menggunakan temp + temp.T. Ini dilakukan untuk memperoleh matriks simetri yang mencerminkan ketergantungan piksel secara bilateral.\n",
    "Membagi matriks data dengan jumlah semua elemennya menggunakan data /= np.sum(data). Ini dilakukan untuk menghitung probabilitas dari setiap pasangan piksel. Mengembalikan matriks distribusi probabilitas data."
   ]
  },
  {
   "cell_type": "code",
   "execution_count": 8,
   "metadata": {},
   "outputs": [],
   "source": [
    "def ekstraksi(image):\n",
    "    features = []\n",
    "    \n",
    "    for img in tqdm(image, desc='Ekstraksi'):\n",
    "        data = []\n",
    "        data.append(derajat0(img))\n",
    "        data.append(derajat45(img))\n",
    "        data.append(derajat90(img))\n",
    "        data.append(derajat135(img))\n",
    "        features.append(data)\n",
    "        \n",
    "    return features\n"
   ]
  },
  {
   "attachments": {},
   "cell_type": "markdown",
   "metadata": {},
   "source": [
    "Membuat list kosong features yang akan digunakan untuk menyimpan fitur-fitur yang diekstraksi dari setiap gambar.\n",
    "Melakukan loop pada setiap gambar dalam list image menggunakan tqdm untuk menampilkan progress bar. Pada setiap iterasi, membuat list kosong data untuk menyimpan fitur-fitur dari gambar saat ini. Memanggil fungsi derajat0, derajat45, derajat90, dan derajat135 untuk menghasilkan matriks distribusi probabilitas dari gambar pada empat sudut yang berbeda.\n",
    "Menambahkan matriks distribusi probabilitas ke dalam list data. Menambahkan list data ke dalam list features.\n",
    "Mengembalikan list features yang berisi fitur-fitur yang diekstraksi dari setiap gambar."
   ]
  },
  {
   "cell_type": "code",
   "execution_count": 9,
   "metadata": {},
   "outputs": [
    {
     "name": "stderr",
     "output_type": "stream",
     "text": [
      "Ekstraksi: 100%|██████████| 150/150 [08:08<00:00,  3.26s/it]\n"
     ]
    }
   ],
   "source": [
    "jumlah = 150\n",
    "subset = images[:jumlah]\n",
    "features = ekstraksi(subset)"
   ]
  },
  {
   "attachments": {},
   "cell_type": "markdown",
   "metadata": {},
   "source": [
    "jumlah data yang akan diekstraksi fiturnya ditentukan oleh variabel jumlah. Kemudian, subset gambar sebanyak jumlah diambil dari daftar images menggunakan slicing dan disimpan dalam variabel subset. Selanjutnya, subset gambar tersebut digunakan sebagai argumen untuk memanggil fungsi ekstraksi yang akan melakukan ekstraksi fitur dari setiap gambar dalam subset. Hasil fitur-fitur yang diekstraksi kemudian disimpan dalam variabel features."
   ]
  },
  {
   "cell_type": "code",
   "execution_count": 10,
   "metadata": {},
   "outputs": [],
   "source": [
    "def kontras(data):\n",
    "    return sum([x * pow(i - j, 2) for i, row in enumerate(data) for j, x in enumerate(row)])"
   ]
  },
  {
   "attachments": {},
   "cell_type": "markdown",
   "metadata": {},
   "source": [
    "Melakukan loop pada setiap elemen matriks distribusi probabilitas menggunakan nested loop.\n",
    "Pada setiap iterasi, menghitung kontribusi kontras dari pasangan piksel pada posisi yang ditentukan oleh (i, j) dengan menggunakan rumus x * (i - j)^2, di mana x adalah nilai probabilitas dari pasangan piksel pada posisi tersebut.\n",
    "Mengumpulkan hasil kontribusi kontras dari semua pasangan piksel menggunakan fungsi sum. Mengembalikan nilai total kontras."
   ]
  },
  {
   "cell_type": "code",
   "execution_count": 11,
   "metadata": {},
   "outputs": [],
   "source": [
    "def dissimilarity(data):\n",
    "    return sum([abs(i - j) * x for i, row in enumerate(data) for j, x in enumerate(row)])"
   ]
  },
  {
   "attachments": {},
   "cell_type": "markdown",
   "metadata": {},
   "source": [
    "Melakukan loop pada setiap elemen matriks distribusi probabilitas menggunakan nested loop. Pada setiap iterasi, menghitung kontribusi dissimilarity dari pasangan piksel pada posisi yang ditentukan oleh (i, j) dengan menggunakan rumus abs(i - j) * x, di mana x adalah nilai probabilitas dari pasangan piksel pada posisi tersebut. Mengumpulkan hasil kontribusi dissimilarity dari semua pasangan piksel menggunakan fungsi sum. Mengembalikan nilai total dissimilarity."
   ]
  },
  {
   "cell_type": "code",
   "execution_count": 12,
   "metadata": {},
   "outputs": [],
   "source": [
    "def homogenitas(data):\n",
    "    return sum([x / (1 + pow(i - j, 2)) for i, row in enumerate(data) for j, x in enumerate(row)])"
   ]
  },
  {
   "attachments": {},
   "cell_type": "markdown",
   "metadata": {},
   "source": [
    "Melakukan loop pada setiap elemen matriks distribusi probabilitas menggunakan nested loop. Pada setiap iterasi, menghitung kontribusi homogenitas dari pasangan piksel pada posisi yang ditentukan oleh (i, j) dengan menggunakan rumus x / (1 + (i - j)^2), di mana x adalah nilai probabilitas dari pasangan piksel pada posisi tersebut. Mengumpulkan hasil kontribusi homogenitas dari semua pasangan piksel menggunakan fungsi sum. Mengembalikan nilai total homogenitas."
   ]
  },
  {
   "cell_type": "code",
   "execution_count": 13,
   "metadata": {},
   "outputs": [],
   "source": [
    "def entropy(data):\n",
    "    return -sum([x * math.log(x) for row in data for x in row if x > 0.0])"
   ]
  },
  {
   "attachments": {},
   "cell_type": "markdown",
   "metadata": {},
   "source": [
    "Melakukan loop pada setiap elemen matriks distribusi probabilitas menggunakan nested loop. Pada setiap iterasi, menghitung kontribusi entropy dari nilai probabilitas x dengan menggunakan rumus -x * log(x), di mana x adalah nilai probabilitas. Mengumpulkan hasil kontribusi entropy dari semua nilai probabilitas menggunakan fungsi sum. Mengembalikan nilai entropy yang telah dihitung."
   ]
  },
  {
   "cell_type": "code",
   "execution_count": 14,
   "metadata": {},
   "outputs": [],
   "source": [
    "def asm(data):\n",
    "    return sum([x ** 2 for row in data for x in row])"
   ]
  },
  {
   "attachments": {},
   "cell_type": "markdown",
   "metadata": {},
   "source": [
    "Melakukan loop pada setiap elemen matriks distribusi probabilitas menggunakan nested loop. Pada setiap iterasi, menghitung kontribusi ASM dari nilai probabilitas x dengan menggunakan rumus x^2, di mana x adalah nilai probabilitas. Mengumpulkan hasil kontribusi ASM dari semua nilai probabilitas menggunakan fungsi sum. Mengembalikan nilai ASM yang telah dihitung."
   ]
  },
  {
   "cell_type": "code",
   "execution_count": 15,
   "metadata": {},
   "outputs": [],
   "source": [
    "def energy(data):\n",
    "    return sum([x ** 2 for row in data for x in row])"
   ]
  },
  {
   "attachments": {},
   "cell_type": "markdown",
   "metadata": {},
   "source": [
    "Melakukan loop pada setiap elemen matriks distribusi probabilitas menggunakan nested loop. Pada setiap iterasi, menghitung kontribusi energy dari nilai probabilitas x dengan menggunakan rumus x^2, di mana x adalah nilai probabilitas. Mengumpulkan hasil kontribusi energy dari semua nilai probabilitas menggunakan fungsi sum. Mengembalikan nilai energy yang telah dihitung."
   ]
  },
  {
   "cell_type": "code",
   "execution_count": 16,
   "metadata": {},
   "outputs": [],
   "source": [
    "def korelasi(data):\n",
    "    jumlahBaris = len(data)\n",
    "    jumlahKolom = len(data[0])\n",
    "    sumIJ = sum(i * j * data[i][j] for i in range(jumlahBaris) for j in range(jumlahKolom))\n",
    "    sumI = sum(i * data[i][j] for i in range(jumlahBaris) for j in range(jumlahKolom))\n",
    "    sumJ = sum(j * data[i][j] for i in range(jumlahBaris) for j in range(jumlahKolom))\n",
    "    sumI_squared = sum((i - sumI) ** 2 * data[i][j] for i in range(jumlahBaris) for j in range(jumlahKolom))\n",
    "    sumJ_squared = sum((j - sumJ) ** 2 * data[i][j] for i in range(jumlahBaris) for j in range(jumlahKolom))\n",
    "\n",
    "    std_i = math.sqrt(sumI_squared)\n",
    "    std_j = math.sqrt(sumJ_squared)\n",
    "\n",
    "    if std_i != 0 and std_j != 0:\n",
    "        kor = (sumIJ - sumI * sumJ) / (std_i * std_j)\n",
    "    else:\n",
    "        kor = 0\n",
    "\n",
    "    return kor\n"
   ]
  },
  {
   "attachments": {},
   "cell_type": "markdown",
   "metadata": {},
   "source": [
    "Menghitung jumlah baris dan kolom dalam matriks distribusi probabilitas. Menghitung jumlah dari (i * j * data[i][j]) untuk semua nilai i dan j dalam matriks, yang merepresentasikan sumbu i dan j dari matriks. Menghitung jumlah dari (i * data[i][j]) untuk semua nilai i dan j dalam matriks, yang merepresentasikan sumbu i dari matriks. Menghitung jumlah dari (j * data[i][j]) untuk semua nilai i dan j dalam matriks, yang merepresentasikan sumbu j dari matriks. Menghitung jumlah dari ((i - sumI) ** 2 * data[i][j]) untuk semua nilai i dan j dalam matriks, yang akan digunakan untuk menghitung standar deviasi pada sumbu i. Menghitung jumlah dari ((j - sumJ) ** 2 * data[i][j]) untuk semua nilai i dan j dalam matriks, yang akan digunakan untuk menghitung standar deviasi pada sumbu j. Menghitung standar deviasi pada sumbu i dengan mengakar dari jumlah yang telah dihitung sebelumnya. Menghitung standar deviasi pada sumbu j dengan mengakar dari jumlah yang telah dihitung sebelumnya. Menghitung korelasi dengan rumus (sumIJ - sumI * sumJ) / (std_i * std_j), di mana sumIJ adalah jumlah (i * j * data[i][j]), sumI adalah jumlah (i * data[i][j]), dan std_i serta std_j adalah standar deviasi pada sumbu i dan j masing-masing."
   ]
  },
  {
   "cell_type": "code",
   "execution_count": 17,
   "metadata": {},
   "outputs": [
    {
     "name": "stderr",
     "output_type": "stream",
     "text": [
      "Ekstraksi: 100%|██████████| 150/150 [05:40<00:00,  2.27s/it]\n"
     ]
    }
   ],
   "source": [
    "data0 = []\n",
    "angles = ['0', '45', '90', '135']\n",
    "result = []\n",
    "\n",
    "n = 1500\n",
    "\n",
    "for j in tqdm(range(min(len(features), n)), desc=\"Ekstraksi\"):\n",
    "    eks = [folder]\n",
    "\n",
    "    for i in features[j]:\n",
    "        co = kontras(i)\n",
    "        eks.append(co)\n",
    "        di = dissimilarity(i)\n",
    "        eks.append(di)\n",
    "        ho = homogenitas(i)\n",
    "        eks.append(ho)\n",
    "        ent = entropy(i)\n",
    "        eks.append(ent)\n",
    "        asmV = asm(i)\n",
    "        eks.append(asmV)\n",
    "        en = energy(i)\n",
    "        eks.append(en)\n",
    "        ko = korelasi(i)\n",
    "        eks.append(ko)\n",
    "\n",
    "    result.append(eks)\n",
    "\n",
    "headers = ['path']\n",
    "for angle in angles:\n",
    "    headers.extend([f'kontras{angle}', f'dissimilarity{angle}', f'homogenitas{angle}', f'entropi{angle}', f'asm{angle}', f'energi{angle}', f'correlation{angle}'])\n",
    "\n",
    "df = pd.DataFrame(result, columns=headers)\n",
    "df.head(10)\n",
    "\n",
    "dataframex = pd.DataFrame(result)\n",
    "dataframex.to_csv('data.csv', index=False)"
   ]
  },
  {
   "attachments": {},
   "cell_type": "markdown",
   "metadata": {},
   "source": [
    "Variabel data0 diinisialisasi sebagai sebuah list kosong. Selanjutnya, sebuah list angles diinisialisasi dengan beberapa nilai sudut yaitu '0', '45', '90', dan '135'. Sebuah list result juga diinisialisasi sebagai list kosong.\n",
    "Kemudian, sebuah variabel n diinisialisasi dengan nilai 1500. Nilai ini akan digunakan dalam loop berikutnya.\n",
    "Loop for j in tqdm(range(min(len(features), n)), desc=\"Ekstraksi\"): akan dijalankan. Loop ini akan mengulangi iterasi sebanyak minimum antara panjang features dan nilai n. features mungkin merupakan list atau struktur data lain yang berisi informasi tentang gambar-gambar yang akan diekstraksi fiturnya. Di dalam loop tersebut, sebuah list eks diinisialisasi dengan elemen pertama yaitu folder (variabel yang tidak terdefinisi dalam kode yang diberikan). folder kemungkinan merupakan sebuah variabel yang berisi informasi tentang direktori atau folder tempat gambar-gambar tersebut disimpan.\n",
    "Selanjutnya, loop for i in features[j]: akan dijalankan. Loop ini akan mengiterasi melalui elemen-elemen dalam features[j], yang mungkin merupakan representasi dari suatu gambar. Di dalam loop tersebut, beberapa metode ekstraksi fitur seperti kontras, dissimilarity, homogenitas, entropy, asm, energy, dan korelasi akan diterapkan pada elemen gambar i.\n",
    "Hasil dari setiap metode ekstraksi fitur akan ditambahkan ke list eks. Setelah loop for i in features[j]: selesai, list eks yang berisi ekstraksi fitur dari satu gambar akan ditambahkan ke list result. Setelah loop for j in tqdm(range(min(len(features), n)), desc=\"Ekstraksi\"): selesai, sebuah list headers diinisialisasi. List ini akan berisi nama-nama kolom untuk dataframe yang akan dibuat. Nama kolom untuk setiap sudut dalam angles akan ditambahkan ke list headers dengan format yang sesuai. Sebuah dataframe df dibuat menggunakan list result sebagai data dan headers sebagai nama kolomnya.\n",
    "DataFrame df kemudian dicetak untuk menampilkan 10 baris pertamanya."
   ]
  },
  {
   "cell_type": "code",
   "execution_count": 18,
   "metadata": {},
   "outputs": [
    {
     "name": "stdout",
     "output_type": "stream",
     "text": [
      "5 nilai korelasi tertinggi\n",
      "asm45 - energi45: 1.0\n",
      "asm90 - energi90: 1.0\n",
      "asm135 - energi135: 1.0\n",
      "asm0 - energi0: 0.9999999999999998\n",
      "asm45 - asm135: 0.9999925892122785\n"
     ]
    }
   ],
   "source": [
    "subset_df = df.drop('path', axis=1)\n",
    "n_features = len(subset_df.columns)\n",
    "corr_matrix = np.zeros((n_features, n_features))\n",
    "\n",
    "for i in range(n_features):\n",
    "    for j in range(i+1, n_features):\n",
    "        feature1 = subset_df.columns[i]\n",
    "        feature2 = subset_df.columns[j]\n",
    "        data1 = subset_df[feature1].values\n",
    "        data2 = subset_df[feature2].values\n",
    "\n",
    "        valid_indices = np.isfinite(data1) & np.isfinite(data2)\n",
    "        if np.sum(valid_indices) > 0:\n",
    "            corr = np.corrcoef(data1[valid_indices], data2[valid_indices])[0, 1]\n",
    "            corr_matrix[i, j] = corr\n",
    "            corr_matrix[j, i] = corr\n",
    "\n",
    "top_correlations = []\n",
    "for i in range(n_features):\n",
    "    for j in range(i+1, n_features):\n",
    "        feature1 = subset_df.columns[i]\n",
    "        feature2 = subset_df.columns[j]\n",
    "        correlation = corr_matrix[i, j]\n",
    "        top_correlations.append(((feature1, feature2), correlation))\n",
    "\n",
    "top_correlations.sort(key=lambda x: x[1], reverse=True)\n",
    "top_correlations = top_correlations[:5]\n",
    "\n",
    "print(\"5 nilai korelasi tertinggi\")\n",
    "for (feature1, feature2), correlation in top_correlations:\n",
    "    print(f\"{feature1} - {feature2}: {correlation}\")"
   ]
  },
  {
   "attachments": {},
   "cell_type": "markdown",
   "metadata": {},
   "source": [
    "DataFrame df diambil subsetnya dengan menghapus kolom 'path' menggunakan metode drop dengan parameter axis=1. Subset DataFrame ini disimpan dalam variabel subset_df. Jumlah fitur dalam subset_df dihitung dengan mengambil panjang dari subset_df.columns. Nilai ini disimpan dalam variabel n_features. Sebuah matriks kosong corr_matrix dengan dimensi n_features x n_features (sesuai dengan jumlah fitur) diinisialisasi menggunakan np.zeros. Dilakukan nested loop for i in range(n_features): dan for j in range(i+1, n_features): untuk mengiterasi setiap kombinasi pasangan fitur yang berbeda.\n",
    "Dalam setiap iterasi loop, nama fitur pertama dan fitur kedua diambil dari subset_df.columns[i] dan subset_df.columns[j] masing-masing. Data dari fitur pertama dan fitur kedua diambil dari subset_df menggunakan metode .values dan disimpan dalam variabel data1 dan data2. Indeks valid untuk data yang terdefinisi (np.isfinite) dari kedua fitur tersebut dihitung menggunakan operator &. Jika terdapat setidaknya satu indeks yang valid, maka dilakukan perhitungan korelasi antara data1 dan data2 menggunakan np.corrcoef. Nilai korelasi tersebut disimpan dalam variabel corr. Nilai korelasi antara fitur pertama dan fitur kedua disimpan dalam corr_matrix pada posisi (i, j) dan (j, i) agar matriks korelasi simetris.\n",
    "Sebuah list kosong top_correlations dibuat untuk menyimpan pasangan fitur dan nilai korelasi teratas.\n",
    "Dilakukan nested loop for i in range(n_features): dan for j in range(i+1, n_features): sekali lagi untuk mengiterasi setiap pasangan fitur yang berbeda. Dalam setiap iterasi loop, nama fitur pertama dan fitur kedua diambil dari subset_df.columns[i] dan subset_df.columns[j] masing-masing. Nilai korelasi antara fitur pertama dan fitur kedua diambil dari corr_matrix menggunakan indeks (i, j) dan disimpan dalam variabel correlation. Pasangan fitur dan nilai korelasi tersebut ditambahkan ke dalam top_correlations sebagai tuple. List top_correlations diurutkan berdasarkan nilai korelasi dengan metode .sort() dan parameter key=lambda x: x[1] untuk mengurutkan berdasarkan elemen kedua dari setiap tuple (nilai korelasi) secara menurun. List top_correlations dibatasi hingga 5 pasangan teratas menggunakan slicing [:5]. Setelah itu dilakukan loping untuk menemukan 5 korelasi tertinggi."
   ]
  }
 ],
 "metadata": {
  "kernelspec": {
   "display_name": "base",
   "language": "python",
   "name": "python3"
  },
  "language_info": {
   "codemirror_mode": {
    "name": "ipython",
    "version": 3
   },
   "file_extension": ".py",
   "mimetype": "text/x-python",
   "name": "python",
   "nbconvert_exporter": "python",
   "pygments_lexer": "ipython3",
   "version": "3.11.3"
  },
  "orig_nbformat": 4
 },
 "nbformat": 4,
 "nbformat_minor": 2
}
